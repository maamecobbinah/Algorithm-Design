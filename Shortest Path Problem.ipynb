{
 "cells": [
  {
   "cell_type": "markdown",
   "id": "82c96e02",
   "metadata": {},
   "source": [
    "### Shortest Path Probelm "
   ]
  },
  {
   "cell_type": "markdown",
   "id": "d9efbc96",
   "metadata": {},
   "source": [
    "Consider the below dynamic programming algorithm to find the shortest path between a\n",
    "source node and a target node in a given graph 𝐺 = (𝑉 , 𝐸).\n",
    "• Provide a python program that takes the vertex set, edge set, source node, and the target node\n",
    "as an input and returns the shortest path value and the set of edges on the shortest\n",
    "path as an output"
   ]
  },
  {
   "cell_type": "code",
   "execution_count": 1,
   "id": "f27b1a97",
   "metadata": {},
   "outputs": [
    {
     "data": {
      "text/plain": [
       "{(1, 2): 4,\n",
       " (1, 3): 2,\n",
       " (3, 2): 1,\n",
       " (2, 4): 5,\n",
       " (3, 4): 8,\n",
       " (3, 5): 10,\n",
       " (4, 5): 2,\n",
       " (4, 6): 6,\n",
       " (5, 6): 5}"
      ]
     },
     "execution_count": 1,
     "metadata": {},
     "output_type": "execute_result"
    }
   ],
   "source": [
    "nodes = [1, 2, 3, 4, 5, 6]\n",
    "edges = {(1,2):4, (1,3):2, (3,2):1, (2,4):5, (3,4):8, (3,5):10, (4,5):2, (4,6):6, (5,6):5}\n",
    "edges"
   ]
  },
  {
   "cell_type": "code",
   "execution_count": 6,
   "id": "d3049a42",
   "metadata": {},
   "outputs": [
    {
     "name": "stdout",
     "output_type": "stream",
     "text": [
      "14 ((1, 3), (3, 2), (2, 4), (4, 6))\n"
     ]
    }
   ],
   "source": [
    "def ShortestPathDP(nodes, edges, n_source, n_target):\n",
    "    dp = [{v : [0, (None, None)] for v in nodes}] * len(nodes)\n",
    "    for v in nodes:\n",
    "        dp[0][v][0] = float(\"infinity\")\n",
    "    dp[0][n_target][0] = 0\n",
    "    for i in range(1, len(nodes)):\n",
    "        for v in nodes:\n",
    "            dp[i][v] = dp[i-1][v]\n",
    "        for (v, w) in edges:\n",
    "            dp[i][v] = min(dp[i-1][v], [dp[i-1][w][0] + edges[(v, w)], (v, w)],key = lambda tup : tup[0])\n",
    "    min_cost, (start, end) = dp[len(nodes)-1][n_source]\n",
    "    path = [(start, end)]\n",
    "    while True:\n",
    "        _, (start, end) = dp[len(nodes)-1][end]\n",
    "        path.append((start, end))\n",
    "        if end == n_target:\n",
    "            break\n",
    "    return min_cost, tuple(path)\n",
    "\n",
    "n_source = 1\n",
    "n_target = 6\n",
    "cost, path = ShortestPathDP(nodes, edges, n_source, n_target)\n",
    "print(cost, path)\n",
    "\n"
   ]
  },
  {
   "cell_type": "code",
   "execution_count": null,
   "id": "4af25bc8",
   "metadata": {},
   "outputs": [],
   "source": []
  }
 ],
 "metadata": {
  "kernelspec": {
   "display_name": "Python 3",
   "language": "python",
   "name": "python3"
  },
  "language_info": {
   "codemirror_mode": {
    "name": "ipython",
    "version": 3
   },
   "file_extension": ".py",
   "mimetype": "text/x-python",
   "name": "python",
   "nbconvert_exporter": "python",
   "pygments_lexer": "ipython3",
   "version": "3.8.8"
  }
 },
 "nbformat": 4,
 "nbformat_minor": 5
}
