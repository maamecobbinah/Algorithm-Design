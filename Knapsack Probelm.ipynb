{
 "cells": [
  {
   "cell_type": "markdown",
   "id": "a7b1c6c9",
   "metadata": {},
   "source": [
    "### Knapsack Probelm"
   ]
  },
  {
   "cell_type": "raw",
   "id": "8c6fee6d",
   "metadata": {},
   "source": [
    "Given weights and values of n items, put these items in a knapsack of capacity W \n",
    "to get the maximum total value in the knapsack. In other words, given two integer \n",
    "arrays val[0..n-1] and wt[0..n-1] which represent values and weights associated \n",
    "with n items respectively. Also given an integer W which represents knapsack capacity, \n",
    "find out the maximum value subset of val[] \n",
    "such that sum of the weights of this subset is smaller than or equal to W. "
   ]
  },
  {
   "cell_type": "code",
   "execution_count": 1,
   "id": "07f38bd8",
   "metadata": {},
   "outputs": [
    {
     "name": "stdout",
     "output_type": "stream",
     "text": [
      "220\n"
     ]
    }
   ],
   "source": [
    "def knapSack(W, wt, val, n):\n",
    "    dp = [0 for i in range(W+1)]  # Making the dp array\n",
    " \n",
    "    for i in range(1, n+1):  # taking first i elements\n",
    "        for w in range(W, 0, -1):  # starting from back,so that we also have data of\n",
    "                                # previous computation when taking i-1 items\n",
    "            if wt[i-1] <= w:\n",
    "                # finding the maximum value\n",
    "                dp[w] = max(dp[w], dp[w-wt[i-1]]+val[i-1])\n",
    " \n",
    "    return dp[W]  # returning the maximum value of knapsack\n",
    " \n",
    " \n",
    "# Driver code\n",
    "val = [60, 100, 120]\n",
    "wt = [10, 20, 30]\n",
    "W = 50\n",
    "n = len(val)\n",
    "# This code is contributed by Suyash Saxena\n",
    "print(knapSack(W, wt, val, n))"
   ]
  },
  {
   "cell_type": "code",
   "execution_count": null,
   "id": "80650471",
   "metadata": {},
   "outputs": [],
   "source": []
  }
 ],
 "metadata": {
  "kernelspec": {
   "display_name": "Python 3",
   "language": "python",
   "name": "python3"
  },
  "language_info": {
   "codemirror_mode": {
    "name": "ipython",
    "version": 3
   },
   "file_extension": ".py",
   "mimetype": "text/x-python",
   "name": "python",
   "nbconvert_exporter": "python",
   "pygments_lexer": "ipython3",
   "version": "3.8.8"
  }
 },
 "nbformat": 4,
 "nbformat_minor": 5
}
