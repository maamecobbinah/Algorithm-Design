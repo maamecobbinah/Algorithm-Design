{
 "cells": [
  {
   "cell_type": "markdown",
   "id": "46df4ed4",
   "metadata": {},
   "source": [
    "# Quick Sort Algorithm "
   ]
  },
  {
   "cell_type": "code",
   "execution_count": 2,
   "id": "197c4718",
   "metadata": {},
   "outputs": [
    {
     "name": "stdout",
     "output_type": "stream",
     "text": [
      "[1, 2, 3, 4, 6, 7, 10, 19]\n"
     ]
    }
   ],
   "source": [
    "#Divide and Conquer Algorithm \n",
    "def quick_sort(sequence):\n",
    "    length = len(sequence)\n",
    "    if length <= 1:\n",
    "        return sequence\n",
    "    else:\n",
    "        pivot = sequence.pop()\n",
    "    items_greater = []\n",
    "    items_lower = []\n",
    "    \n",
    "    for item in sequence:\n",
    "        if item > pivot:\n",
    "            items_greater.append(item)\n",
    "        else:\n",
    "            items_lower.append(item)\n",
    "    return quick_sort(items_lower) + [pivot] + quick_sort(items_greater)\n",
    "print(quick_sort([10,4,2,6,19,1,3,7]))\n",
    "            "
   ]
  },
  {
   "cell_type": "code",
   "execution_count": null,
   "id": "51cf8c05",
   "metadata": {},
   "outputs": [],
   "source": []
  }
 ],
 "metadata": {
  "kernelspec": {
   "display_name": "Python 3 (ipykernel)",
   "language": "python",
   "name": "python3"
  },
  "language_info": {
   "codemirror_mode": {
    "name": "ipython",
    "version": 3
   },
   "file_extension": ".py",
   "mimetype": "text/x-python",
   "name": "python",
   "nbconvert_exporter": "python",
   "pygments_lexer": "ipython3",
   "version": "3.9.12"
  }
 },
 "nbformat": 4,
 "nbformat_minor": 5
}
