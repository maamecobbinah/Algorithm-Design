{
 "cells": [
  {
   "cell_type": "markdown",
   "id": "ef3c891c",
   "metadata": {},
   "source": [
    "### Weighted Interval Scheduling Probelm "
   ]
  },
  {
   "cell_type": "code",
   "execution_count": 2,
   "id": "3f7de2aa",
   "metadata": {},
   "outputs": [
    {
     "name": "stdout",
     "output_type": "stream",
     "text": [
      "The optimal profit is 250\n"
     ]
    }
   ],
   "source": [
    "from functools import cmp_to_key\n",
    " \n",
    "# A job has start time, finish time and profit\n",
    "class Job:\n",
    "     \n",
    "    def __init__(self, start, finish, profit):\n",
    "         \n",
    "        self.start = start\n",
    "        self.finish = finish\n",
    "        self.profit = profit\n",
    " \n",
    "# A utility function that is used for\n",
    "# sorting events according to finish time\n",
    "def jobComparator(s1, s2):\n",
    "     \n",
    "    return s1.finish < s2.finish\n",
    " \n",
    "# Find the latest job (in sorted array) that\n",
    "# doesn't conflict with the job[i]. If there\n",
    "# is no compatible job, then it returns -1\n",
    "def latestNonConflict(arr, i):\n",
    "     \n",
    "    for j in range(i - 1, -1, -1):\n",
    "        if arr[j].finish <= arr[i - 1].start:\n",
    "            return j\n",
    "             \n",
    "    return -1\n",
    " \n",
    "# A recursive function that returns the\n",
    "# maximum possible profit from given\n",
    "# array of jobs. The array of jobs must\n",
    "# be sorted according to finish time\n",
    "def findMaxProfitRec(arr, n):\n",
    "     \n",
    "    # Base case\n",
    "    if n == 1:\n",
    "        return arr[n - 1].profit\n",
    " \n",
    "    # Find profit when current job is included\n",
    "    inclProf = arr[n - 1].profit\n",
    "    i = latestNonConflict(arr, n)\n",
    "     \n",
    "    if i != -1:\n",
    "        inclProf += findMaxProfitRec(arr, i + 1)\n",
    " \n",
    "    # Find profit when current job is excluded\n",
    "    exclProf = findMaxProfitRec(arr, n - 1)\n",
    "    return max(inclProf, exclProf)\n",
    " \n",
    "# The main function that returns the maximum\n",
    "# possible profit from given array of jobs\n",
    "def findMaxProfit(arr, n):\n",
    "     \n",
    "    # Sort jobs according to finish time\n",
    "    arr = sorted(arr, key = cmp_to_key(jobComparator))\n",
    "    return findMaxProfitRec(arr, n)\n",
    " \n",
    "# Driver code\n",
    "values = [ (3, 10, 20), (1, 2, 50),\n",
    "           (6, 19, 100), (2, 100, 200) ]\n",
    "arr = []\n",
    "for i in values:\n",
    "    arr.append(Job(i[0], i[1], i[2]))\n",
    "     \n",
    "n = len(arr)\n",
    " \n",
    "print(\"The optimal profit is\", findMaxProfit(arr, n))"
   ]
  },
  {
   "cell_type": "code",
   "execution_count": null,
   "id": "d72e15b7",
   "metadata": {},
   "outputs": [],
   "source": []
  }
 ],
 "metadata": {
  "kernelspec": {
   "display_name": "Python 3",
   "language": "python",
   "name": "python3"
  },
  "language_info": {
   "codemirror_mode": {
    "name": "ipython",
    "version": 3
   },
   "file_extension": ".py",
   "mimetype": "text/x-python",
   "name": "python",
   "nbconvert_exporter": "python",
   "pygments_lexer": "ipython3",
   "version": "3.8.8"
  }
 },
 "nbformat": 4,
 "nbformat_minor": 5
}
