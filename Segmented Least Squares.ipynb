{
 "cells": [
  {
   "cell_type": "code",
   "execution_count": 1,
   "id": "dcbc9341",
   "metadata": {},
   "outputs": [],
   "source": [
    "import numpy as np\n",
    "import pandas as pd\n",
    "from matplotlib import pyplot as plt\n",
    "from itertools import permutations\n",
    "import math\n",
    "from IPython import display\n"
   ]
  },
  {
   "cell_type": "code",
   "execution_count": 4,
   "id": "c7c04734",
   "metadata": {},
   "outputs": [
    {
     "ename": "IndentationError",
     "evalue": "expected an indented block (<ipython-input-4-5508a76259ae>, line 36)",
     "output_type": "error",
     "traceback": [
      "\u001b[1;36m  File \u001b[1;32m\"<ipython-input-4-5508a76259ae>\"\u001b[1;36m, line \u001b[1;32m36\u001b[0m\n\u001b[1;33m    ys += (gradients[bp_n+1] - gradients[bp_n]) * np.maximum(xs -␣\u001b[0m\n\u001b[1;37m    ^\u001b[0m\n\u001b[1;31mIndentationError\u001b[0m\u001b[1;31m:\u001b[0m expected an indented block\n"
     ]
    }
   ],
   "source": [
    "def least_squares_fit(xs, ys, m):\n",
    "    a = (m*sum(xs*ys)-sum(xs)*sum(ys)) / (m*sum(xs**2)-sum(xs)**2)\n",
    "    b = (sum(ys)-a*sum(xs)) / m\n",
    "    return a, b\n",
    "\n",
    "def compute_errors(xs, ys):\n",
    "    n = len(xs)\n",
    "    e = np.zeros((n,n))\n",
    "    for j in range(n):\n",
    "        for i in range(j+1):\n",
    "            m = j-i+1\n",
    "            if m > 1:\n",
    "                a, b = least_squares_fit(xs[i:i+m], ys[i:i+m], m)\n",
    "                e[i,j] = sum((ys[i:i+m] - a*xs[i:i+m] - b)**2)\n",
    "    return e\n",
    "\n",
    "def build_DP_table_least_squares(e, n, line_cost=10):\n",
    "    M = np.zeros(n)\n",
    "    p = np.zeros(n, dtype=int) # backpointers to find line segment ids\n",
    "    for j in range(1, n):\n",
    "        cost = [e[i,j] + line_cost + M[i-1] for i in range(j)]\n",
    "        M[j] = np.min(cost)\n",
    "        p[j] = np.argmin(cost)\n",
    "    return M, p\n",
    "\n",
    "gradients = [0,2,1,2,-1,0]\n",
    "constant = 0\n",
    "breakpoints = [-4, -2, 1, 4]\n",
    "# breakpoints = [-6,-4, -2, 1, 4]\n",
    "# breakpoints = [-4, -2, 3, 4,5]\n",
    "n_points = 200\n",
    "np.random.seed(0)\n",
    "xs = np.linspace(-10, 10, n_points)\n",
    "ys = constant + gradients[0]*xs + np.random.normal(size=n_points)*0.5\n",
    "\n",
    "for bp_n in range(len(breakpoints)):\n",
    "    ys += (gradients[bp_n+1] - gradients[bp_n]) * np.maximum(xs - breakpoints[bp_n], 0)\n",
    "plt.plot(xs, ys, 'g.')\n"
   ]
  },
  {
   "cell_type": "code",
   "execution_count": null,
   "id": "3a8ff127",
   "metadata": {},
   "outputs": [],
   "source": []
  }
 ],
 "metadata": {
  "kernelspec": {
   "display_name": "Python 3",
   "language": "python",
   "name": "python3"
  },
  "language_info": {
   "codemirror_mode": {
    "name": "ipython",
    "version": 3
   },
   "file_extension": ".py",
   "mimetype": "text/x-python",
   "name": "python",
   "nbconvert_exporter": "python",
   "pygments_lexer": "ipython3",
   "version": "3.8.8"
  }
 },
 "nbformat": 4,
 "nbformat_minor": 5
}
